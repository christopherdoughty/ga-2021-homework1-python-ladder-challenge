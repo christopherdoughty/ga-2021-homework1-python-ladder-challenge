{
 "cells": [
  {
   "cell_type": "markdown",
   "metadata": {},
   "source": [
    "<img src=\"http://imgur.com/1ZcRyrc.png\" style=\"float: left; margin: 20px; height: 55px\" />\n",
    "\n",
    "# Python Ladder Challenge - Notebook 2\n",
    "\n",
    "_Author:_ Tim Book"
   ]
  },
  {
   "cell_type": "markdown",
   "metadata": {},
   "source": [
    "# Climb the Ladder!\n",
    "Our class moves quickly! Sometimes, it feels like we make leaps in logic that are a bit too big. Learn Python _slowly_, by doing many, many examples. Problems in this notebook start out easy and progressively get harder, so that the next rung of the Python ladder is always within reach."
   ]
  },
  {
   "cell_type": "markdown",
   "metadata": {},
   "source": [
    "# Part IV: Conditionals and Loops"
   ]
  },
  {
   "cell_type": "markdown",
   "metadata": {},
   "source": [
    "34) Print out the numbers 1 through 10."
   ]
  },
  {
   "cell_type": "code",
   "execution_count": 196,
   "metadata": {},
   "outputs": [
    {
     "name": "stdout",
     "output_type": "stream",
     "text": [
      "1\n",
      "2\n",
      "3\n",
      "4\n",
      "5\n",
      "6\n",
      "7\n",
      "8\n",
      "9\n",
      "10\n"
     ]
    }
   ],
   "source": [
    "# Method One\n",
    "# In English: \"For each number in the range 1 up to 11, print the number.\"\n",
    "# - `num` can be any variable name -- you get to name it.\n",
    "# - Note by convention do not use `i` here, since `i` stands for index and we are not indexing into anything.\n",
    "for num in range(1, 11):\n",
    "    print(num)"
   ]
  },
  {
   "cell_type": "code",
   "execution_count": 197,
   "metadata": {},
   "outputs": [
    {
     "name": "stdout",
     "output_type": "stream",
     "text": [
      "[1, 2, 3, 4, 5, 6, 7, 8, 9, 10]\n"
     ]
    }
   ],
   "source": [
    "# Method Two\n",
    "print(list(range(1, 11)))"
   ]
  },
  {
   "cell_type": "markdown",
   "metadata": {},
   "source": [
    "35) Print out the odd numbers between 1 and 20 by using the third parameter in the `range()` function."
   ]
  },
  {
   "cell_type": "code",
   "execution_count": 198,
   "metadata": {},
   "outputs": [
    {
     "name": "stdout",
     "output_type": "stream",
     "text": [
      "1\n",
      "3\n",
      "5\n",
      "7\n",
      "9\n",
      "11\n",
      "13\n",
      "15\n",
      "17\n",
      "19\n"
     ]
    }
   ],
   "source": [
    "# Method One\n",
    "for num in range(1, 21, 2):\n",
    "    print(num)"
   ]
  },
  {
   "cell_type": "code",
   "execution_count": 199,
   "metadata": {},
   "outputs": [
    {
     "name": "stdout",
     "output_type": "stream",
     "text": [
      "[1, 3, 5, 7, 9, 11, 13, 15, 17, 19]\n"
     ]
    }
   ],
   "source": [
    "# Method Two\n",
    "print(list(range(1, 21, 2)))"
   ]
  },
  {
   "cell_type": "markdown",
   "metadata": {},
   "source": [
    "36) Print out the odd numbers between 1 and 20 by checking if the number is even before printing."
   ]
  },
  {
   "cell_type": "code",
   "execution_count": 200,
   "metadata": {},
   "outputs": [
    {
     "name": "stdout",
     "output_type": "stream",
     "text": [
      "1\n",
      "3\n",
      "5\n",
      "7\n",
      "9\n",
      "11\n",
      "13\n",
      "15\n",
      "17\n",
      "19\n"
     ]
    }
   ],
   "source": [
    "# For positive integers, `num % 2` evaluates to the remainder of `num` when divided by 2.\n",
    "# - Even numbers have a remainder of 0 (they divide evenly), while odd numbers have a remainder of 1.\n",
    "# - Hence, `num % 2 == 1` evaluates to `True` if `num` is odd and `False` otherwise.\n",
    "\n",
    "# In English: \"For each number in the range 1 up to 21, if the number has a remainder of 1 when divided by two then print it.\"\n",
    "for num in range(1, 21):\n",
    "    if num % 2 == 1:\n",
    "        print(num)"
   ]
  },
  {
   "cell_type": "markdown",
   "metadata": {},
   "source": [
    "37) What is the sum of the first 100 integers? Hint: Create a variable `total` equal to zero, and increment `total` inside a loop."
   ]
  },
  {
   "cell_type": "code",
   "execution_count": 201,
   "metadata": {},
   "outputs": [
    {
     "data": {
      "text/plain": [
       "5050"
      ]
     },
     "execution_count": 201,
     "metadata": {},
     "output_type": "execute_result"
    }
   ],
   "source": [
    "# Method One\n",
    "total = 0\n",
    "for n in range(101):\n",
    "    total += n   # same as total = total + n\n",
    "\n",
    "total"
   ]
  },
  {
   "cell_type": "code",
   "execution_count": 202,
   "metadata": {},
   "outputs": [
    {
     "data": {
      "text/plain": [
       "5050"
      ]
     },
     "execution_count": 202,
     "metadata": {},
     "output_type": "execute_result"
    }
   ],
   "source": [
    "# Method Two (preferred in practice)\n",
    "sum(range(101))"
   ]
  },
  {
   "cell_type": "markdown",
   "metadata": {},
   "source": [
    "38) For each friend in your `friends` list, print `'PERSON IS AWESOME!'` in all caps, where `PERSON` is of course replaced with your friend's name."
   ]
  },
  {
   "cell_type": "code",
   "execution_count": 203,
   "metadata": {},
   "outputs": [],
   "source": [
    "friends = [\"Alice\", \"Bob\", \"Charlie\", \"Debbie\"]"
   ]
  },
  {
   "cell_type": "code",
   "execution_count": 204,
   "metadata": {},
   "outputs": [
    {
     "name": "stdout",
     "output_type": "stream",
     "text": [
      "ALICE IS AWESOME!\n",
      "BOB IS AWESOME!\n",
      "CHARLIE IS AWESOME!\n",
      "DEBBIE IS AWESOME!\n"
     ]
    }
   ],
   "source": [
    "# By convention, lists are plural.\n",
    "# - When looping through a pluralized list variable, we typically use the singular form as the looping variable\n",
    "for friend in friends:\n",
    "    print(f'{friend.upper()} IS AWESOME!')"
   ]
  },
  {
   "cell_type": "markdown",
   "metadata": {},
   "source": [
    "39) Similar to the last problem, print `'PERSON IS AWESOME!'` for each friend in your friends list _only if their name ends in a vowel_. Otherwise, print `\"person is ok...\"` (all lowercase). "
   ]
  },
  {
   "cell_type": "code",
   "execution_count": 205,
   "metadata": {},
   "outputs": [
    {
     "name": "stdout",
     "output_type": "stream",
     "text": [
      "ALICE IS AWESOME!\n",
      "CHARLIE IS AWESOME!\n",
      "DEBBIE IS AWESOME!\n"
     ]
    }
   ],
   "source": [
    "# 'aeiou' is a constant, so for readability we put it into a variable `VOWELS` which describes what it means.\n",
    "# Again for readability, we break the inner code into two steps using the intermediate variable `last_letter`.\n",
    "# - Note that `A in B` is valid for any B that can be iterated through, including lists/sets/dicts/strings.\n",
    "# - So, we are testing whether `last_letter` is one of the characters in the string `'aeiou'`.\n",
    "\n",
    "VOWELS = 'aeiou'\n",
    "for friend in friends:\n",
    "    last_letter = friend[-1].lower()\n",
    "    if last_letter in VOWELS:         # Instead of 'aeiou', we use a variable describing what it is\n",
    "        print(f'{friend.upper()} IS AWESOME!')"
   ]
  },
  {
   "cell_type": "markdown",
   "metadata": {},
   "source": [
    "40) For each number between 1 and 30 (inclusive), if a number is divisible by 3, print `'Fizz'`. Otherwise, just print the number."
   ]
  },
  {
   "cell_type": "code",
   "execution_count": 206,
   "metadata": {},
   "outputs": [
    {
     "name": "stdout",
     "output_type": "stream",
     "text": [
      "1\n",
      "2\n",
      "Fizz\n",
      "4\n",
      "5\n",
      "Fizz\n",
      "7\n",
      "8\n",
      "Fizz\n",
      "10\n",
      "11\n",
      "Fizz\n",
      "13\n",
      "14\n",
      "Fizz\n",
      "16\n",
      "17\n",
      "Fizz\n",
      "19\n",
      "20\n",
      "Fizz\n",
      "22\n",
      "23\n",
      "Fizz\n",
      "25\n",
      "26\n",
      "Fizz\n",
      "28\n",
      "29\n",
      "Fizz\n"
     ]
    }
   ],
   "source": [
    "# METHOD ONE\n",
    "for num in range(1, 31):\n",
    "    if num % 3 == 0:\n",
    "        print('Fizz')\n",
    "    else:\n",
    "        print(num)"
   ]
  },
  {
   "cell_type": "code",
   "execution_count": 207,
   "metadata": {},
   "outputs": [
    {
     "name": "stdout",
     "output_type": "stream",
     "text": [
      "1\n",
      "2\n",
      "Fizz\n",
      "4\n",
      "5\n",
      "Fizz\n",
      "7\n",
      "8\n",
      "Fizz\n",
      "10\n",
      "11\n",
      "Fizz\n",
      "13\n",
      "14\n",
      "Fizz\n",
      "16\n",
      "17\n",
      "Fizz\n",
      "19\n",
      "20\n",
      "Fizz\n",
      "22\n",
      "23\n",
      "Fizz\n",
      "25\n",
      "26\n",
      "Fizz\n",
      "28\n",
      "29\n",
      "Fizz\n"
     ]
    }
   ],
   "source": [
    "# METHOD TWO: This uses the ternaray operator `X if <condition> else Y`\n",
    "# - It is more compact, but it is not as easily extendable!\n",
    "for num in range(1, 31):\n",
    "    print('Fizz' if num % 3 == 0 else num)"
   ]
  },
  {
   "cell_type": "markdown",
   "metadata": {},
   "source": [
    "41) For each number between 1 and 30 (inclusive), if a number is divisible by 5, print `\"Buzz\"`. Otherwise, just print the number."
   ]
  },
  {
   "cell_type": "code",
   "execution_count": 208,
   "metadata": {},
   "outputs": [
    {
     "name": "stdout",
     "output_type": "stream",
     "text": [
      "1\n",
      "2\n",
      "3\n",
      "4\n",
      "Buzz\n",
      "6\n",
      "7\n",
      "8\n",
      "9\n",
      "Buzz\n",
      "11\n",
      "12\n",
      "13\n",
      "14\n",
      "Buzz\n",
      "16\n",
      "17\n",
      "18\n",
      "19\n",
      "Buzz\n",
      "21\n",
      "22\n",
      "23\n",
      "24\n",
      "Buzz\n",
      "26\n",
      "27\n",
      "28\n",
      "29\n",
      "Buzz\n"
     ]
    }
   ],
   "source": [
    "for n in range(1, 31):\n",
    "    if n % 5 == 0:\n",
    "        print('Buzz')\n",
    "    else:\n",
    "        print(n)"
   ]
  },
  {
   "cell_type": "markdown",
   "metadata": {},
   "source": [
    "42) **FIZZBUZZ!** For each number between 1 and 30 (inclusive),\n",
    "* if a number is divisible by 3, print `'Fizz'`\n",
    "* if a number is divisible by 5, print `'Buzz'`\n",
    "* if a number is divisible by both 3 and 5, instead print `'FizzBuzz'`,\n",
    "* otherwise, just print the number\n",
    "\n",
    "This problem is the famous \"FizzBuzz\" problem - and is a very common interview coding challenge! If you can do this without help, you're making awesome progress! Well done!"
   ]
  },
  {
   "cell_type": "code",
   "execution_count": 209,
   "metadata": {},
   "outputs": [
    {
     "name": "stdout",
     "output_type": "stream",
     "text": [
      "1\n",
      "2\n",
      "Fizz\n",
      "4\n",
      "Buzz\n",
      "Fizz\n",
      "7\n",
      "8\n",
      "Fizz\n",
      "Buzz\n",
      "11\n",
      "Fizz\n",
      "13\n",
      "14\n",
      "FizzBuzz\n",
      "16\n",
      "17\n",
      "Fizz\n",
      "19\n",
      "Buzz\n",
      "Fizz\n",
      "22\n",
      "23\n",
      "Fizz\n",
      "Buzz\n",
      "26\n",
      "Fizz\n",
      "28\n",
      "29\n",
      "FizzBuzz\n"
     ]
    }
   ],
   "source": [
    "# METHOD ONE\n",
    "for num in range(1, 31):\n",
    "    if num % 15 == 0:        # alternatively -- if n % 3 == 0 and n % 5 == 0:\n",
    "        print('FizzBuzz')\n",
    "    elif num % 3 == 0:\n",
    "        print('Fizz')\n",
    "    elif num % 5 == 0:\n",
    "        print('Buzz')\n",
    "    else:\n",
    "        print(num)"
   ]
  },
  {
   "cell_type": "code",
   "execution_count": 210,
   "metadata": {},
   "outputs": [
    {
     "name": "stdout",
     "output_type": "stream",
     "text": [
      "1\n",
      "2\n",
      "Fizz\n",
      "4\n",
      "Buzz\n",
      "Fizz\n",
      "7\n",
      "8\n",
      "Fizz\n",
      "Buzz\n",
      "11\n",
      "Fizz\n",
      "13\n",
      "14\n",
      "FizzBuzz\n",
      "16\n",
      "17\n",
      "Fizz\n",
      "19\n",
      "Buzz\n",
      "Fizz\n",
      "22\n",
      "23\n",
      "Fizz\n",
      "Buzz\n",
      "26\n",
      "Fizz\n",
      "28\n",
      "29\n",
      "FizzBuzz\n"
     ]
    }
   ],
   "source": [
    "# METHOD TWO - More compact\n",
    "for num in range(1, 31):\n",
    "    fizzbuzz = ''\n",
    "    if num % 3 == 0: fizzbuzz += 'Fizz'\n",
    "    if num % 5 == 0: fizzbuzz += 'Buzz'\n",
    "    \n",
    "    print(fizzbuzz if fizzbuzz else num)"
   ]
  },
  {
   "cell_type": "markdown",
   "metadata": {},
   "source": [
    "## Part IV: Optional Challenge"
   ]
  },
  {
   "cell_type": "markdown",
   "metadata": {},
   "source": [
    "43) Define some string `sentence`. If you can't think of a good one, feel free to use `fact` from the previous notebook."
   ]
  },
  {
   "cell_type": "code",
   "execution_count": 211,
   "metadata": {},
   "outputs": [],
   "source": [
    "sentence = 'Once upon a time, there was a goose.'"
   ]
  },
  {
   "cell_type": "markdown",
   "metadata": {},
   "source": [
    "44) Count the number of vowels in `sentence` (no, y is not a vowel).\n",
    "* _Hint:_ What happens if you loop through a string?"
   ]
  },
  {
   "cell_type": "code",
   "execution_count": 212,
   "metadata": {},
   "outputs": [
    {
     "data": {
      "text/plain": [
       "14"
      ]
     },
     "execution_count": 212,
     "metadata": {},
     "output_type": "execute_result"
    }
   ],
   "source": [
    "# METHOD ONE\n",
    "VOWELS = 'aeiou'\n",
    "\n",
    "num_vowels = 0\n",
    "for char in sentence.lower():     # For each character in the string ...\n",
    "    if char in VOWELS: \n",
    "        num_vowels += 1\n",
    "\n",
    "num_vowels"
   ]
  },
  {
   "cell_type": "code",
   "execution_count": 213,
   "metadata": {},
   "outputs": [
    {
     "data": {
      "text/plain": [
       "14"
      ]
     },
     "execution_count": 213,
     "metadata": {},
     "output_type": "execute_result"
    }
   ],
   "source": [
    "# METHOD TWO\n",
    "# In Python, `True` is 1 and `False` is 0. For example, `True + True + False == 2`.\n",
    "# - We will use this fact often throughout the course.\n",
    "# - Below, `char in VOWELS` is `True` if the character is a vowel and `False` otherwise.\n",
    "# - This lets us avoid the `if` statement, so the result looks more compact.\n",
    "VOWELS = 'aeiou'\n",
    "\n",
    "num_vowels = 0\n",
    "for char in sentence.lower():     # For each character in the string ...\n",
    "    num_vowels += char in VOWELS  # char in VOWELS is either True (1)\n",
    "\n",
    "num_vowels"
   ]
  },
  {
   "cell_type": "markdown",
   "metadata": {},
   "source": [
    "45) Define a variable `sentence_rm` that is equal to `sentence` with all vowels removed. \n",
    "* _Hint:_ This is a tough one. Start out with an empty string and concatenate all of the consonants to it inside a loop."
   ]
  },
  {
   "cell_type": "code",
   "execution_count": 214,
   "metadata": {},
   "outputs": [
    {
     "data": {
      "text/plain": [
       "'Onc pn  tm, thr ws  gs.'"
      ]
     },
     "execution_count": 214,
     "metadata": {},
     "output_type": "execute_result"
    }
   ],
   "source": [
    "# METHOD ONE\n",
    "VOWELS = 'aeiou'\n",
    "\n",
    "sentence_rm = ''\n",
    "for char in sentence:\n",
    "    if char not in VOWELS:\n",
    "        sentence_rm += char\n",
    "\n",
    "sentence_rm"
   ]
  },
  {
   "cell_type": "code",
   "execution_count": 215,
   "metadata": {},
   "outputs": [
    {
     "data": {
      "text/plain": [
       "'Onc pn  tm, thr ws  gs.'"
      ]
     },
     "execution_count": 215,
     "metadata": {},
     "output_type": "execute_result"
    }
   ],
   "source": [
    "# METHOD TWO: More compact via the ternary operator `X if <condition> else Y`\n",
    "VOWELS = 'aeiou'\n",
    "\n",
    "sentence_rm = ''\n",
    "for char in sentence:\n",
    "    sentence_rm += '' if char in VOWELS else char\n",
    "\n",
    "sentence_rm"
   ]
  },
  {
   "cell_type": "code",
   "execution_count": 216,
   "metadata": {},
   "outputs": [
    {
     "data": {
      "text/plain": [
       "'Onc pn  tm, thr ws  gs.'"
      ]
     },
     "execution_count": 216,
     "metadata": {},
     "output_type": "execute_result"
    }
   ],
   "source": [
    "# METHOD THREE (preferred in practice)\n",
    "# The main flaw in the previous methods is that they will be very slow for long strings.\n",
    "# - Strings are immutable, so adding an extra character results in the entire string being copied to new memory every time.\n",
    "# - Here, our code was getting lengthy so we used `\\` to extend the line to the next line.\n",
    "sentence_rm = sentence.replace('a', '').replace('e', '').replace('i', '')\\\n",
    "                      .replace('o', '').replace('u', '')\n",
    "sentence_rm"
   ]
  },
  {
   "cell_type": "markdown",
   "metadata": {},
   "source": [
    "46) Create a variable `fav_number` equal to whatever is your favorite integer. Write a loop to determine if `fav_number` is prime. Recall that a prime number is any number whose only divisors are 1 and itself. For example, 6 is not prime since it's divisible by 1, 2, 3, and 6. But 7 _is_ prime since it's only divisible by 1 and 7."
   ]
  },
  {
   "cell_type": "code",
   "execution_count": 217,
   "metadata": {},
   "outputs": [
    {
     "data": {
      "text/plain": [
       "True"
      ]
     },
     "execution_count": 217,
     "metadata": {},
     "output_type": "execute_result"
    }
   ],
   "source": [
    "# Technical note: This is a very slow way of testing whether a number is prime!\n",
    "# - For example, there is no need to test for any divisors > sqrt(fav_number), since they will never divide evenly.\n",
    "\n",
    "fav_number = 37              # Prime\n",
    "is_prime = fav_number > 1    # Initially assume the number is prime if > 1 (this ensures <= 1 are not prime)\n",
    "\n",
    "# A number is prime if it has exactly two divisors -- 1 and itself.\n",
    "# We exclude 1 and fav_number from the loop.\n",
    "# - So, if there are *any* divisors inbetween, it is prime.\n",
    "for num in range(2, fav_number):\n",
    "    if fav_number % num == 0:   # Is `fav_number` evenly divisible by `num`?\n",
    "        is_prime = False\n",
    "        break                   # A single divisor indicates it is not prime. So, we leave the loop immediately to save time.\n",
    "\n",
    "is_prime"
   ]
  },
  {
   "cell_type": "markdown",
   "metadata": {},
   "source": [
    "47) A palindromic number reads the same both ways. For example, 1234321 is a palindrome. Write an `if` statement to test whether or not a number is palindromic."
   ]
  },
  {
   "cell_type": "code",
   "execution_count": 218,
   "metadata": {},
   "outputs": [
    {
     "name": "stdout",
     "output_type": "stream",
     "text": [
      "Is a palindrome!\n"
     ]
    }
   ],
   "source": [
    "# METHOD ONE\n",
    "num = 1234321\n",
    "digits = str(num)                   # To look at individual digits, must convert to a string first\n",
    "\n",
    "if digits == digits[::-1]:          # Is `digits` identical to the reverse of `digits`?\n",
    "    print('Is a palindrome!')\n",
    "else:\n",
    "    print('Is not a palindrome.')"
   ]
  },
  {
   "cell_type": "markdown",
   "metadata": {},
   "source": [
    "48) Find the largest palindrome made from the product of two two-digit numbers.\n",
    "* _Tip:_ Do not worry about the \"efficiency\" of your answer! The easiest answer is very inefficient."
   ]
  },
  {
   "cell_type": "code",
   "execution_count": 219,
   "metadata": {},
   "outputs": [
    {
     "data": {
      "text/plain": [
       "9009"
      ]
     },
     "execution_count": 219,
     "metadata": {},
     "output_type": "execute_result"
    }
   ],
   "source": [
    "# METHOD ONE\n",
    "TWO_DIGIT_NUMS = range(10, 100)         # Give the constant value a name to improve readability\n",
    "\n",
    "largest_palindrome = 11                 # Set to a low number (in this case, we know 11 is a valid palindrome)\n",
    "for a in TWO_DIGIT_NUMS:\n",
    "    for b in TWO_DIGIT_NUMS:\n",
    "        digits = str(a * b)             # For readability, pre-process digits into a variable first\n",
    "        if digits == digits[::-1]:      # Is a*b a palindrome?\n",
    "            largest_palindrome = max(a * b, largest_palindrome)   # if a*b > largest, let largest = a * b\n",
    "\n",
    "largest_palindrome"
   ]
  },
  {
   "cell_type": "code",
   "execution_count": 220,
   "metadata": {},
   "outputs": [
    {
     "data": {
      "text/plain": [
       "True"
      ]
     },
     "execution_count": 220,
     "metadata": {},
     "output_type": "execute_result"
    }
   ],
   "source": [
    "# METHOD TWO - It is much more readable to use a function -- especially if we will use `is_palindrome` more than once!\n",
    "TWO_DIGIT_NUMS = range(10, 100)         # Give the constant value a name to improve readability\n",
    "\n",
    "def is_palindrome(num):\n",
    "    \"\"\"Returns True if `num` is palindromic, else False.\"\"\"\n",
    "    digits = str(num)\n",
    "    return digits == digits[::-1]\n",
    "\n",
    "is_palindrome(1234321)  # Test"
   ]
  },
  {
   "cell_type": "code",
   "execution_count": 221,
   "metadata": {},
   "outputs": [
    {
     "data": {
      "text/plain": [
       "9009"
      ]
     },
     "execution_count": 221,
     "metadata": {},
     "output_type": "execute_result"
    }
   ],
   "source": [
    "largest_palindrome = 11\n",
    "for a in TWO_DIGIT_NUMS:\n",
    "    for b in TWO_DIGIT_NUMS:\n",
    "        if is_palindrome(a * b):      # Note how the code is now easy-to-read and self-commenting\n",
    "            largest_palindrome = max(a * b, largest_palindrome)   # if a*b > largest, let largest = a * b\n",
    "\n",
    "largest_palindrome"
   ]
  },
  {
   "cell_type": "code",
   "execution_count": 222,
   "metadata": {},
   "outputs": [
    {
     "data": {
      "text/plain": [
       "9009"
      ]
     },
     "execution_count": 222,
     "metadata": {},
     "output_type": "execute_result"
    }
   ],
   "source": [
    "# METHOD THREE\n",
    "# Amazingly, we can do this in one line using a list comprehension! (Preview for Part V :D)\n",
    "\n",
    "max(a * b for a in TWO_DIGIT_NUMS for b in TWO_DIGIT_NUMS if is_palindrome(a * b))"
   ]
  },
  {
   "cell_type": "markdown",
   "metadata": {},
   "source": [
    "# Part V: List Comprehensions\n",
    "\n",
    "**Disclaimer:** Many (maybe all) of these exercises can be done without a list comprehension. However, listcomps are often the easiest way to solve a problem like this. Listcomps are also optimized in Python, meaning they are also often the _fastest_ way to solve a problem. In fact, **every problem in this section can be solved in one line of code!**\n",
    "\n",
    "---\n",
    "**IMPORTANT NOTE: Consider all ranges in this section to be *inclusive*.**"
   ]
  },
  {
   "cell_type": "markdown",
   "metadata": {},
   "source": [
    "49) Create a list of the numbers 1 through 10."
   ]
  },
  {
   "cell_type": "code",
   "execution_count": 223,
   "metadata": {},
   "outputs": [
    {
     "data": {
      "text/plain": [
       "[1, 2, 3, 4, 5, 6, 7, 8, 9, 10]"
      ]
     },
     "execution_count": 223,
     "metadata": {},
     "output_type": "execute_result"
    }
   ],
   "source": [
    "# METHOD ONE (preferred)\n",
    "list(range(1, 11))"
   ]
  },
  {
   "cell_type": "code",
   "execution_count": 224,
   "metadata": {},
   "outputs": [
    {
     "data": {
      "text/plain": [
       "[1, 2, 3, 4, 5, 6, 7, 8, 9, 10]"
      ]
     },
     "execution_count": 224,
     "metadata": {},
     "output_type": "execute_result"
    }
   ],
   "source": [
    "# METHOD TWO: List comprehension\n",
    "\n",
    "# This code is the same as:\n",
    "#    new_list = []\n",
    "#    for n in range(1, 11):   # The loop is verbatim the final part of the list comprehension\n",
    "#        new_list.append(n)   # `n` -- what to append -- is the first part of the list comprehension\n",
    "\n",
    "[n for n in range(1, 11)]"
   ]
  },
  {
   "cell_type": "markdown",
   "metadata": {},
   "source": [
    "50) Create a list of the squares of the numbers between 1 and 10."
   ]
  },
  {
   "cell_type": "code",
   "execution_count": 225,
   "metadata": {},
   "outputs": [
    {
     "data": {
      "text/plain": [
       "[1, 4, 9, 16, 25, 36, 49, 64, 81, 100]"
      ]
     },
     "execution_count": 225,
     "metadata": {},
     "output_type": "execute_result"
    }
   ],
   "source": [
    "# Because list comprehensions are compact, it is more acceptable to use one-letter variables.\n",
    "# - So here, we use `n` instead of `num`.\n",
    "[n*n for n in range(1,11)]"
   ]
  },
  {
   "cell_type": "markdown",
   "metadata": {},
   "source": [
    "51) Create a list of all the even numbers between 18 and 47."
   ]
  },
  {
   "cell_type": "code",
   "execution_count": 226,
   "metadata": {},
   "outputs": [
    {
     "data": {
      "text/plain": [
       "[18, 20, 22, 24, 26, 28, 30, 32, 34, 36, 38, 40, 42, 44, 46]"
      ]
     },
     "execution_count": 226,
     "metadata": {},
     "output_type": "execute_result"
    }
   ],
   "source": [
    "# This is called a \"filter\"\n",
    "[n for n in range(18, 48) if n % 2 == 0]"
   ]
  },
  {
   "cell_type": "markdown",
   "metadata": {},
   "source": [
    "52) Create a list of the squares of the even numbers between 1 and 20."
   ]
  },
  {
   "cell_type": "code",
   "execution_count": 227,
   "metadata": {},
   "outputs": [
    {
     "data": {
      "text/plain": [
       "[4, 16, 36, 64, 100, 144, 196, 256, 324, 400]"
      ]
     },
     "execution_count": 227,
     "metadata": {},
     "output_type": "execute_result"
    }
   ],
   "source": [
    "[n*n for n in range(1, 21) if n % 2 == 0]"
   ]
  },
  {
   "cell_type": "markdown",
   "metadata": {},
   "source": [
    "53) What is the sum of the cubes of the numbers between 7 and 37?"
   ]
  },
  {
   "cell_type": "code",
   "execution_count": 228,
   "metadata": {},
   "outputs": [
    {
     "data": {
      "text/plain": [
       "443115"
      ]
     },
     "execution_count": 228,
     "metadata": {},
     "output_type": "execute_result"
    }
   ],
   "source": [
    "# METHOD ONE\n",
    "# First, the list is created via the list comprehension. Then, its elements are summed.\n",
    "sum([n*n*n for n in range(7, 37)])"
   ]
  },
  {
   "cell_type": "code",
   "execution_count": 229,
   "metadata": {},
   "outputs": [
    {
     "data": {
      "text/plain": [
       "443115"
      ]
     },
     "execution_count": 229,
     "metadata": {},
     "output_type": "execute_result"
    }
   ],
   "source": [
    "# METHOD TWO (preferred in practice)\n",
    "# Without the brackets, this is not a list comprehension but a _generator_.\n",
    "# - Instead of wasting time and memory creating a list first, \n",
    "#      each element is created on the fly when it is looped over in `sum`.\n",
    "sum(n*n*n for n in range(7, 37))"
   ]
  },
  {
   "cell_type": "markdown",
   "metadata": {},
   "source": [
    "54) Create a list of all of the numbers divisible by either 3 or 5 (or both) between 1 and 30."
   ]
  },
  {
   "cell_type": "code",
   "execution_count": 230,
   "metadata": {},
   "outputs": [
    {
     "data": {
      "text/plain": [
       "[3, 5, 6, 9, 10, 12, 15, 18, 20, 21, 24, 25, 27, 30]"
      ]
     },
     "execution_count": 230,
     "metadata": {},
     "output_type": "execute_result"
    }
   ],
   "source": [
    "# If a number is divisible by 3, it is also divisible by 3 or 5!\n",
    "[n for n in range(1, 31) if n % 3 == 0 or n % 5 == 0]"
   ]
  },
  {
   "cell_type": "markdown",
   "metadata": {},
   "source": [
    "55) Redefine this list to be all uppercase."
   ]
  },
  {
   "cell_type": "code",
   "execution_count": 231,
   "metadata": {},
   "outputs": [],
   "source": [
    "friends = [\"Alice\", \"Bob\", \"Charlie\", \"Derek\"]"
   ]
  },
  {
   "cell_type": "code",
   "execution_count": 232,
   "metadata": {},
   "outputs": [],
   "source": [
    "friends = [friend.upper() for friend in friends]"
   ]
  },
  {
   "cell_type": "markdown",
   "metadata": {},
   "source": [
    "56) Remove all elements from `friends` whose names do not end in a vowel."
   ]
  },
  {
   "cell_type": "code",
   "execution_count": 233,
   "metadata": {},
   "outputs": [
    {
     "data": {
      "text/plain": [
       "['ALICE', 'CHARLIE']"
      ]
     },
     "execution_count": 233,
     "metadata": {},
     "output_type": "execute_result"
    }
   ],
   "source": [
    "# METHOD ONE\n",
    "[f for f in friends if f[-1].lower() in 'aeiou']"
   ]
  },
  {
   "cell_type": "code",
   "execution_count": 234,
   "metadata": {},
   "outputs": [
    {
     "data": {
      "text/plain": [
       "['ALICE', 'CHARLIE']"
      ]
     },
     "execution_count": 234,
     "metadata": {},
     "output_type": "execute_result"
    }
   ],
   "source": [
    "# METHOD TWO (preferred) - Easier to read using a function!\n",
    "def ends_in_vowel(s):\n",
    "    return s[-1].lower() in 'aeiou'\n",
    "\n",
    "[f for f in friends if ends_in_vowel(f)]   # Much easier to understand"
   ]
  },
  {
   "cell_type": "markdown",
   "metadata": {},
   "source": [
    "## Part V: Optional Challenge"
   ]
  },
  {
   "cell_type": "markdown",
   "metadata": {},
   "source": [
    "57) Take the `sentence` you used earlier and remove the vowels again. This time, using a one-line list comprehension.\n",
    "\n",
    "* _Hint:_ You'll find the `.join()` method to be useful here."
   ]
  },
  {
   "cell_type": "code",
   "execution_count": 235,
   "metadata": {},
   "outputs": [
    {
     "data": {
      "text/plain": [
       "'Onc pn  tm, thr ws  gs.'"
      ]
     },
     "execution_count": 235,
     "metadata": {},
     "output_type": "execute_result"
    }
   ],
   "source": [
    "# `.join()` is strange at first, because it acts on the separator. \n",
    "# Examples: - ''.join(['a', 'b', 'c']) == 'abc'\n",
    "#           - '&&&'.join(['a', 'b', 'c']) == 'a&&&b&&&c'\n",
    "''.join([c for c in sentence if c not in 'aeiou'])"
   ]
  },
  {
   "cell_type": "markdown",
   "metadata": {},
   "source": [
    "58) You need to access Excel files that have names like `Jan 5.xlsx` or `Mar 15.xlsx`. Create a list of January 1 through January 31 like this. That is, create the list of: `['Jan 1.xlsx', 'Jan 2.xlsx', ... , 'Jan 31.xlsx']`."
   ]
  },
  {
   "cell_type": "code",
   "execution_count": 236,
   "metadata": {},
   "outputs": [
    {
     "data": {
      "text/plain": [
       "['Jan 1.xlsx',\n",
       " 'Jan 2.xlsx',\n",
       " 'Jan 3.xlsx',\n",
       " 'Jan 4.xlsx',\n",
       " 'Jan 5.xlsx',\n",
       " 'Jan 6.xlsx',\n",
       " 'Jan 7.xlsx',\n",
       " 'Jan 8.xlsx',\n",
       " 'Jan 9.xlsx',\n",
       " 'Jan 10.xlsx',\n",
       " 'Jan 11.xlsx',\n",
       " 'Jan 12.xlsx',\n",
       " 'Jan 13.xlsx',\n",
       " 'Jan 14.xlsx',\n",
       " 'Jan 15.xlsx',\n",
       " 'Jan 16.xlsx',\n",
       " 'Jan 17.xlsx',\n",
       " 'Jan 18.xlsx',\n",
       " 'Jan 19.xlsx',\n",
       " 'Jan 20.xlsx',\n",
       " 'Jan 21.xlsx',\n",
       " 'Jan 22.xlsx',\n",
       " 'Jan 23.xlsx',\n",
       " 'Jan 24.xlsx',\n",
       " 'Jan 25.xlsx',\n",
       " 'Jan 26.xlsx',\n",
       " 'Jan 27.xlsx',\n",
       " 'Jan 28.xlsx',\n",
       " 'Jan 29.xlsx',\n",
       " 'Jan 30.xlsx',\n",
       " 'Jan 31.xlsx']"
      ]
     },
     "execution_count": 236,
     "metadata": {},
     "output_type": "execute_result"
    }
   ],
   "source": [
    "[f'Jan {n}.xlsx' for n in range(1, 32)]"
   ]
  },
  {
   "cell_type": "markdown",
   "metadata": {},
   "source": [
    "59) Below is a list of amounts in euros. Create a new list, `dollars`, which is these amounts converted to U.S. dollars. There are 1.1 dollars per euro."
   ]
  },
  {
   "cell_type": "code",
   "execution_count": 237,
   "metadata": {},
   "outputs": [],
   "source": [
    "euros = [4.50, 6.70, 3.25, 9.99, 12.75, 0.35]"
   ]
  },
  {
   "cell_type": "code",
   "execution_count": 238,
   "metadata": {},
   "outputs": [],
   "source": [
    "# `euro` is not the singular of `euros`, so we'll use `amt` here instead (for amount)\n",
    "dollars = [1.1 * amt for amt in euros]"
   ]
  },
  {
   "cell_type": "markdown",
   "metadata": {},
   "source": [
    "60) Below is a list of heights in inches. In order to ride a roller coaster, you must be at least 5 feet tall (60 inches). Filter this list to be _only_ those heights tall enough to ride."
   ]
  },
  {
   "cell_type": "code",
   "execution_count": 239,
   "metadata": {},
   "outputs": [],
   "source": [
    "heights = [71, 48, 55, 65, 68, 60, 58, 53]"
   ]
  },
  {
   "cell_type": "code",
   "execution_count": 240,
   "metadata": {},
   "outputs": [
    {
     "data": {
      "text/plain": [
       "[71, 65, 68, 60]"
      ]
     },
     "execution_count": 240,
     "metadata": {},
     "output_type": "execute_result"
    }
   ],
   "source": [
    "[h for h in heights if h >= 60]"
   ]
  },
  {
   "cell_type": "markdown",
   "metadata": {},
   "source": [
    "61) Repeat the above exercise, except replace the lower heights with a `None` instead of dropping them.\n",
    "* _Hint:_ Python has an in-line `if` statement, sometimes called a _ternary operator_ that you might find useful here. For example:\n",
    "\n",
    "```\n",
    "print('Tall enough' if 72 > 60 else 'Too short')\n",
    "print('Tall enough' if 52 > 60 else 'Too short')\n",
    "```"
   ]
  },
  {
   "cell_type": "code",
   "execution_count": 241,
   "metadata": {},
   "outputs": [
    {
     "data": {
      "text/plain": [
       "[71, None, None, 65, 68, 60, None, None]"
      ]
     },
     "execution_count": 241,
     "metadata": {},
     "output_type": "execute_result"
    }
   ],
   "source": [
    "# Note the translation of this is:\n",
    "\n",
    "#    new_heights = []\n",
    "#    for h in heights:\n",
    "#        new_heights.append(h if h >= 60 else None)\n",
    "\n",
    "[h if h >= 60 else None for h in heights]"
   ]
  },
  {
   "cell_type": "markdown",
   "metadata": {},
   "source": [
    "62) Here are more heights below. However, this time, the information is contained in a dictionary. Create a list of the names _and ONLY the names_ of the people who are tall enough to ride the roller coaster.\n",
    "\n",
    "* _Hint:_ How can you loop through a dictionary?"
   ]
  },
  {
   "cell_type": "code",
   "execution_count": 242,
   "metadata": {},
   "outputs": [],
   "source": [
    "people = {\n",
    "    'Aaron': 58,\n",
    "    'Barbara': 66,\n",
    "    'Clarence': 62,\n",
    "    'Donovan': 55,\n",
    "    'Erika': 70,\n",
    "    'Fernando': 72\n",
    "}"
   ]
  },
  {
   "cell_type": "code",
   "execution_count": 243,
   "metadata": {},
   "outputs": [
    {
     "data": {
      "text/plain": [
       "['Barbara', 'Clarence', 'Erika', 'Fernando']"
      ]
     },
     "execution_count": 243,
     "metadata": {},
     "output_type": "execute_result"
    }
   ],
   "source": [
    "# `people.items()` loops through each key-value pair as a tuple:\n",
    "# - i.e. it generates the tuples: `[('Aaron', 58), ('Barbara', 66), ...]`\n",
    "# Then tuple unpacking is used to unpack each:\n",
    "# - i.e. `name,height = ('Aaron', 58)` sets `name = 'Aaron'` and `height = 58`\n",
    "\n",
    "# The translation is:\n",
    "\n",
    "# tall_people = []\n",
    "# for name,height in people.items():\n",
    "#     if height >= 60:\n",
    "#         tall_people.append(name)\n",
    "\n",
    "\n",
    "[name for name,height in people.items() if height >= 60]"
   ]
  },
  {
   "cell_type": "markdown",
   "metadata": {},
   "source": [
    "63) Below we have some more data on our classmates. This time, the dictionary values are test scores. A student's final grade is their _maximum_ score on these three tests. Create a list of the students' final grades."
   ]
  },
  {
   "cell_type": "code",
   "execution_count": 244,
   "metadata": {},
   "outputs": [],
   "source": [
    "people = {\n",
    "    'Aaron': [87, 52, 78],\n",
    "    'Barbara': [92, 79, 85],\n",
    "    'Clarence': [42, 68, 55],\n",
    "    'Donovan': [95, 100, 87],\n",
    "    'Erika': [62, 88, 47],\n",
    "    'Fernando': [84, 99, 0]\n",
    "}"
   ]
  },
  {
   "cell_type": "code",
   "execution_count": 245,
   "metadata": {},
   "outputs": [
    {
     "data": {
      "text/plain": [
       "[87, 92, 68, 100, 88, 99]"
      ]
     },
     "execution_count": 245,
     "metadata": {},
     "output_type": "execute_result"
    }
   ],
   "source": [
    "[max(scores) for scores in people.values()]"
   ]
  },
  {
   "cell_type": "markdown",
   "metadata": {},
   "source": [
    "64) Repeat the above problem, except create a _dictionary_ of the final scores, where the dictionary keys are the names, and the dictionary values are the final grade.\n",
    "\n",
    "* _Hint:_ You can do **dictionary comprehension** to solve this problem! Yes, it exists!"
   ]
  },
  {
   "cell_type": "code",
   "execution_count": 246,
   "metadata": {},
   "outputs": [
    {
     "data": {
      "text/plain": [
       "{'Aaron': 87,\n",
       " 'Barbara': 92,\n",
       " 'Clarence': 68,\n",
       " 'Donovan': 100,\n",
       " 'Erika': 88,\n",
       " 'Fernando': 99}"
      ]
     },
     "execution_count": 246,
     "metadata": {},
     "output_type": "execute_result"
    }
   ],
   "source": [
    "{name: max(scores) for name,scores in people.items()}"
   ]
  },
  {
   "cell_type": "markdown",
   "metadata": {},
   "source": [
    "65) Using the two lists defined below, create the following resulting list:\n",
    "\n",
    "`['AZ', 'BY', 'CX', 'DW', 'EV']`\n",
    "\n",
    "* _Hint:_ Check out the `zip()` function."
   ]
  },
  {
   "cell_type": "code",
   "execution_count": 247,
   "metadata": {},
   "outputs": [],
   "source": [
    "letters_a = ['A', 'B', 'C', 'D', 'E']\n",
    "letters_z = ['Z', 'Y', 'X', 'W', 'V']"
   ]
  },
  {
   "cell_type": "code",
   "execution_count": 248,
   "metadata": {},
   "outputs": [
    {
     "data": {
      "text/plain": [
       "['AZ', 'BY', 'CX', 'DW', 'EV']"
      ]
     },
     "execution_count": 248,
     "metadata": {},
     "output_type": "execute_result"
    }
   ],
   "source": [
    "# Similarly to `.items()`, `zip` puts together the elements at index 0, then index 1, etc.\n",
    "# - i.e. `zip(letters_a, letters_z)` generates the tuples: `('A', 'Z'), ('B', 'Y'), ('C', 'X'), ...`\n",
    "# Then, the loop performs tuple unpacking on each of the tuples:\n",
    "# - i.e. `a,z = ('A', 'Z')` sets `a = 'A'` and `z = 'Z'`.\n",
    "\n",
    "[a + z for a,z in zip(letters_a, letters_z)]   # `a` and `z` are strings, and so `a + z` is a string!"
   ]
  },
  {
   "cell_type": "markdown",
   "metadata": {},
   "source": [
    "66) Using `letters_a` defined in the previous problem, create the following list:\n",
    "\n",
    "```\n",
    "[\n",
    "    'A is letter 1 of the alphabet',\n",
    "    'B is letter 2 of the alphabet',\n",
    "    ...\n",
    "]\n",
    "```\n",
    "\n",
    "* _Hint:_ Checkout the `enumerate()` function."
   ]
  },
  {
   "cell_type": "code",
   "execution_count": 249,
   "metadata": {},
   "outputs": [
    {
     "data": {
      "text/plain": [
       "['A is letter 1 of the alphabet',\n",
       " 'B is letter 2 of the alphabet',\n",
       " 'C is letter 3 of the alphabet',\n",
       " 'D is letter 4 of the alphabet',\n",
       " 'E is letter 5 of the alphabet']"
      ]
     },
     "execution_count": 249,
     "metadata": {},
     "output_type": "execute_result"
    }
   ],
   "source": [
    "# `enumerate(letters_a)` works the same as `zip` and `.items()`!\n",
    "# It generates a tuple that pairs each index with its element.\n",
    "# - i.e. it generates: `(0, 'A'), (1, 'B'), (2, 'C'), (3, 'D'), (4, 'E')`.\n",
    "# Then, the loop performs tuple unpacking on each:\n",
    "# - i.e. `i,letter = (0, 'A')` sets `i = 0` and `letter = 'A'`.\n",
    "\n",
    "[f'{letter} is letter {i+1} of the alphabet' for i,letter in enumerate(letters_a)]"
   ]
  },
  {
   "cell_type": "markdown",
   "metadata": {},
   "source": [
    "# Part VI: Libraries, imports and some more math!"
   ]
  },
  {
   "cell_type": "markdown",
   "metadata": {},
   "source": [
    "67) Import the `math` library"
   ]
  },
  {
   "cell_type": "code",
   "execution_count": 250,
   "metadata": {},
   "outputs": [],
   "source": [
    "import math"
   ]
  },
  {
   "cell_type": "markdown",
   "metadata": {},
   "source": [
    "68) The `math` library has a lot of cool stuff in it. For this problem, evaluate the following math expressions:"
   ]
  },
  {
   "cell_type": "markdown",
   "metadata": {},
   "source": [
    "a) $\\sin{\\frac{\\pi}{2}}$"
   ]
  },
  {
   "cell_type": "code",
   "execution_count": 251,
   "metadata": {},
   "outputs": [
    {
     "data": {
      "text/plain": [
       "1.0"
      ]
     },
     "execution_count": 251,
     "metadata": {},
     "output_type": "execute_result"
    }
   ],
   "source": [
    "# Note that `2` evaluates to an int, while `2.` evaluates to a float.\n",
    "# - In this case, `math.pi` is a float so both will evaluate the same way.\n",
    "# - However, if you know the result should be a float, many coders will put a period after it.\n",
    "# - Doing so 1) informs the reader the result will be a float, and 2) forces the result to be a float (e.g. in Python 2)\n",
    "math.sin(math.pi / 2.)"
   ]
  },
  {
   "cell_type": "markdown",
   "metadata": {},
   "source": [
    "b) $\\ln{\\sqrt{e}}$\n",
    "* _Hint:_ A logarithm with base $e$ is represented by just `log` in `math`. In fact, throughout the course, $\\log$ with no subscript will always denote the natural log (ie, log base $e$)."
   ]
  },
  {
   "cell_type": "code",
   "execution_count": 252,
   "metadata": {},
   "outputs": [
    {
     "data": {
      "text/plain": [
       "0.5"
      ]
     },
     "execution_count": 252,
     "metadata": {},
     "output_type": "execute_result"
    }
   ],
   "source": [
    "# Natural log -- note ln(sqrt(e)) == ln(e^0.5) == 0.5 * ln(e) == 0.5 * 1 == 0.5.\n",
    "math.log(math.sqrt(math.e))"
   ]
  },
  {
   "cell_type": "markdown",
   "metadata": {},
   "source": [
    "c) $e^{3!}$"
   ]
  },
  {
   "cell_type": "code",
   "execution_count": 253,
   "metadata": {},
   "outputs": [
    {
     "data": {
      "text/plain": [
       "403.428793492735"
      ]
     },
     "execution_count": 253,
     "metadata": {},
     "output_type": "execute_result"
    }
   ],
   "source": [
    "# METHOD ONE\n",
    "math.pow(math.e, math.factorial(3))"
   ]
  },
  {
   "cell_type": "code",
   "execution_count": 254,
   "metadata": {},
   "outputs": [
    {
     "data": {
      "text/plain": [
       "403.428793492735"
      ]
     },
     "execution_count": 254,
     "metadata": {},
     "output_type": "execute_result"
    }
   ],
   "source": [
    "# METHOD TWO (should be identical)\n",
    "math.e ** math.factorial(3)"
   ]
  },
  {
   "cell_type": "markdown",
   "metadata": {},
   "source": [
    "69) Two popular math functions are the \"round up\" and \"round down\" functions. In computer science, we call them the \"ceiling\" and \"floor\" functions. They're used and denoted as follows:\n",
    "\n",
    "* `ceil(3.8)` $= \\lceil 3.8 \\rceil = 4$\n",
    "* `ceil(3.2)` $= \\lceil 3.2 \\rceil = 4$\n",
    "* `floor(3.8)` $= \\lfloor 3.8 \\rfloor = 3$\n",
    "* `floor(3.2)` $= \\lfloor 3.2 \\rfloor = 3$\n",
    "\n",
    "We _only_ need these two functions out of the `math` library. Use an `import` statement to import _only_ these two functions and verify the above examples are true."
   ]
  },
  {
   "cell_type": "code",
   "execution_count": 255,
   "metadata": {},
   "outputs": [],
   "source": [
    "from math import floor, ceil"
   ]
  },
  {
   "cell_type": "code",
   "execution_count": 256,
   "metadata": {},
   "outputs": [
    {
     "name": "stdout",
     "output_type": "stream",
     "text": [
      "4\n",
      "4\n",
      "3\n",
      "3\n"
     ]
    }
   ],
   "source": [
    "print(ceil(3.8))\n",
    "print(ceil(3.2))\n",
    "print(floor(3.8))\n",
    "print(floor(3.2))"
   ]
  },
  {
   "cell_type": "markdown",
   "metadata": {},
   "source": [
    "70) We can also _alias_ library names if they're too long and we will be using them often. As we will do many times in this course, import the following three libraries:\n",
    "\n",
    "* Import the `numpy` library, aliasing it as `np`\n",
    "* Import the `pandas` library, aliasing it as `pd`\n",
    "* Import the `matplotlib.pyplot` library and submodule, aliasing it as `plt`"
   ]
  },
  {
   "cell_type": "code",
   "execution_count": 257,
   "metadata": {},
   "outputs": [],
   "source": [
    "import numpy as np\n",
    "import pandas as pd\n",
    "import matplotlib.pyplot as plt"
   ]
  },
  {
   "cell_type": "markdown",
   "metadata": {},
   "source": [
    "71) You can also import everything from a library all at once without needing to prefix it:\n",
    "\n",
    "`from math import *`\n",
    "\n",
    "For this question your task is: _never, **ever**_ do this.\n",
    "\n",
    "Why?\n",
    "1. It \"pollutes\" the namespace with variable names that could easily be overwritten on accident.\n",
    "    - For example, after the import we could accidentally define `sin = 'without'` then be surprised when `sin(0.5)` no longer works!\n",
    "2. It does not show the reader which module a given function came from. \n",
    "    - For example, we see above that `ceil` came from the `math` library since it was noted in the import.\n",
    "    - If we use * is much more difficult to determine which module `ceil` is from."
   ]
  },
  {
   "cell_type": "code",
   "execution_count": null,
   "metadata": {},
   "outputs": [],
   "source": []
  }
 ],
 "metadata": {
  "kernelspec": {
   "display_name": "Python 3",
   "language": "python",
   "name": "python3"
  },
  "language_info": {
   "codemirror_mode": {
    "name": "ipython",
    "version": 3
   },
   "file_extension": ".py",
   "mimetype": "text/x-python",
   "name": "python",
   "nbconvert_exporter": "python",
   "pygments_lexer": "ipython3",
   "version": "3.8.5"
  }
 },
 "nbformat": 4,
 "nbformat_minor": 4
}
