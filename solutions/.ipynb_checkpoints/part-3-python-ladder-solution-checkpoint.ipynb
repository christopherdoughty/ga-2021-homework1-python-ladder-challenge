{
 "cells": [
  {
   "cell_type": "markdown",
   "metadata": {},
   "source": [
    "<img src=\"http://imgur.com/1ZcRyrc.png\" style=\"float: left; margin: 20px; height: 55px\" />\n",
    "\n",
    "# Python Ladder Challenge - Notebook 3\n",
    "\n",
    "_Author:_ Tim Book"
   ]
  },
  {
   "cell_type": "markdown",
   "metadata": {},
   "source": [
    "# Climb the Ladder!\n",
    "Our class moves quickly! Sometimes, it feels like we make leaps in logic that are a bit too big. Learn Python _slowly_, by doing many, many examples. Problems in this notebook start out easy and progressively get harder, so that the next rung of the Python ladder is always within reach."
   ]
  },
  {
   "cell_type": "markdown",
   "metadata": {},
   "source": [
    "# Part VII: Functions\n",
    "In this section, every question gives example(s). You can (but don't need to) name your function accordingly. You _should_ test out the example to make sure your function works properly. If the example doesn't work, your answer is likely incorrect."
   ]
  },
  {
   "cell_type": "markdown",
   "metadata": {},
   "source": [
    "72) Write a function to compute the area of a triangle. You only need the base and height of a triangle to compute its area.\n",
    "\n",
    "* _Example:_ `area_triangle(5, 4) == 10.0`"
   ]
  },
  {
   "cell_type": "code",
   "execution_count": 28,
   "metadata": {},
   "outputs": [
    {
     "data": {
      "text/plain": [
       "10.0"
      ]
     },
     "execution_count": 28,
     "metadata": {},
     "output_type": "execute_result"
    }
   ],
   "source": [
    "# It good to get in the habit of writing a docstring with every function.\n",
    "\n",
    "def area_triangle(base, height):\n",
    "    \"\"\"Returns the area of a triangle with given `base` and `height`.\"\"\"\n",
    "    return 0.5 * base * height\n",
    "\n",
    "area_triangle(5, 4)"
   ]
  },
  {
   "cell_type": "markdown",
   "metadata": {},
   "source": [
    "73) Import `pi` from `math` and write a function to compute the area of a circle. You only need the radius of a circle to compute its area.\n",
    "\n",
    "* _Example:_ `area_circle(10) == 314.159...`"
   ]
  },
  {
   "cell_type": "code",
   "execution_count": 29,
   "metadata": {},
   "outputs": [
    {
     "data": {
      "text/plain": [
       "314.1592653589793"
      ]
     },
     "execution_count": 29,
     "metadata": {},
     "output_type": "execute_result"
    }
   ],
   "source": [
    "from math import pi\n",
    "\n",
    "def area_circle(r):\n",
    "    \"\"\"Returns the area of the circle with radius `r`.\"\"\"\n",
    "    return pi * r * r\n",
    "\n",
    "area_circle(10)"
   ]
  },
  {
   "cell_type": "markdown",
   "metadata": {},
   "source": [
    "74) Write a function that takes in a number `max_num` and returns the sum of the numbers 1 through `max_num` (inclusive).\n",
    "* _Example:_ `sum_n(5) == 1 + 2 + 3 + 4 + 5 == 15`"
   ]
  },
  {
   "cell_type": "code",
   "execution_count": 30,
   "metadata": {},
   "outputs": [
    {
     "data": {
      "text/plain": [
       "15"
      ]
     },
     "execution_count": 30,
     "metadata": {},
     "output_type": "execute_result"
    }
   ],
   "source": [
    "def sum_n(max_num):\n",
    "    \"\"\"Returns the sum of the numbers 1 through `max_num` (inclusive).\"\"\"\n",
    "    return sum(range(max_num+1))\n",
    "\n",
    "sum_n(5)"
   ]
  },
  {
   "cell_type": "markdown",
   "metadata": {},
   "source": [
    "75) Write a function that takes in a number `max_num` and returns the sum of the square of the numbers 1 through `max_num` (inclusive).\n",
    "* `sum_squares(5) == 1 + 4 + 9 + 16 + 25 == 55`"
   ]
  },
  {
   "cell_type": "code",
   "execution_count": 31,
   "metadata": {},
   "outputs": [
    {
     "data": {
      "text/plain": [
       "55"
      ]
     },
     "execution_count": 31,
     "metadata": {},
     "output_type": "execute_result"
    }
   ],
   "source": [
    "def sum_squares(max_num):\n",
    "    \"\"\"Returns the sum of the first `max_num` square numbers.\"\"\"\n",
    "    return sum(n*n for n in range(max_num+1))\n",
    "\n",
    "sum_squares(5)"
   ]
  },
  {
   "cell_type": "markdown",
   "metadata": {},
   "source": [
    "76) Write a function that takes a number (an amount in euros) and convert it to U.S. dollars. There are 1.1 U.S. dollars per euro.\n",
    "* `to_dollar(10) == 11.0`"
   ]
  },
  {
   "cell_type": "code",
   "execution_count": 32,
   "metadata": {},
   "outputs": [
    {
     "data": {
      "text/plain": [
       "11.0"
      ]
     },
     "execution_count": 32,
     "metadata": {},
     "output_type": "execute_result"
    }
   ],
   "source": [
    "def to_dollar(num_euros):\n",
    "    \"\"\"Returns the dollar equivalent of `num_euros` euros.\"\"\"\n",
    "    return 1.1 * num_euros\n",
    "\n",
    "to_dollar(10)"
   ]
  },
  {
   "cell_type": "markdown",
   "metadata": {},
   "source": [
    "76) Write a function that takes a list of numbers (amounts in euros), and returns them converted to dollars. Use your answer to the previous question in your answer to this question.\n",
    "* _Example:_ `to_dollar_list([1, 10, 100]) == [1.1, 11.0, 110.0]`\n",
    "* _Note:_ You may get some decimal weirdness here."
   ]
  },
  {
   "cell_type": "code",
   "execution_count": 33,
   "metadata": {},
   "outputs": [
    {
     "data": {
      "text/plain": [
       "[1.1, 11.0, 110.00000000000001]"
      ]
     },
     "execution_count": 33,
     "metadata": {},
     "output_type": "execute_result"
    }
   ],
   "source": [
    "def to_dollar_list(euros_list):\n",
    "    \"\"\"Returns the dollar equivalent of each euro quantity in the list `euros_list`.\"\"\"\n",
    "    return [to_dollar(num_euros) for num_euros in euros_list]\n",
    "\n",
    "to_dollar_list([1, 10, 100])"
   ]
  },
  {
   "cell_type": "markdown",
   "metadata": {},
   "source": [
    "77) Write a function that takes a number (a person's height) and returns \"Tall enough\" if they are at least 5 feet (60 inches) or \"Too short\" if they are below 5 feet.\n",
    "* _Example:_ `is_tall(72) == 'Tall enough'`\n",
    "* _Example:_ `is_tall(52) == 'Too short'`"
   ]
  },
  {
   "cell_type": "code",
   "execution_count": 34,
   "metadata": {},
   "outputs": [
    {
     "name": "stdout",
     "output_type": "stream",
     "text": [
      "Tall enough\n",
      "Too short\n"
     ]
    }
   ],
   "source": [
    "def is_tall(height):\n",
    "    \"\"\"Returns 'Tall enough' or 'Too short' given `height`.\"\"\"\n",
    "    return 'Tall enough' if height >= 60 else 'Too short'\n",
    "\n",
    "print(is_tall(72))\n",
    "print(is_tall(52))"
   ]
  },
  {
   "cell_type": "markdown",
   "metadata": {},
   "source": [
    "78) Write a function that takes a list of numbers (peoples' heights) and returns a list of strings \"Tall enough\" or \"Too short\" as in the previous problem. Use your answer to the previous problem to help answer this problem.\n",
    "* _Example:_ `is_tall_list([58, 70, 60]) == ['Too short', 'Tall enough', 'Tall enough']`"
   ]
  },
  {
   "cell_type": "code",
   "execution_count": 35,
   "metadata": {},
   "outputs": [
    {
     "data": {
      "text/plain": [
       "['Too short', 'Tall enough', 'Tall enough']"
      ]
     },
     "execution_count": 35,
     "metadata": {},
     "output_type": "execute_result"
    }
   ],
   "source": [
    "def is_tall_list(heights):\n",
    "    \"\"\"Returns a list of strings expressing whether the respective height in `heights` is tall enough.\"\"\"\n",
    "    return [is_tall(h) for h in heights]\n",
    "\n",
    "is_tall_list([58, 70, 60])"
   ]
  },
  {
   "cell_type": "markdown",
   "metadata": {},
   "source": [
    "79) Write a function that takes in a numeric grade (0 to 100) and returns the letter grade (no pluses or minuses). In a traditional rubric, that would be as follows:\n",
    "\n",
    "* 90 or above = A\n",
    "* 80 - 89 = B\n",
    "* 70 - 79 = C\n",
    "* 60 - 69 = D\n",
    "* 59 or below = F\n",
    "    \n",
    "    \n",
    "* _Example:_ `letter_grade(85) == 'B'`"
   ]
  },
  {
   "cell_type": "code",
   "execution_count": 36,
   "metadata": {},
   "outputs": [
    {
     "data": {
      "text/plain": [
       "'B'"
      ]
     },
     "execution_count": 36,
     "metadata": {},
     "output_type": "execute_result"
    }
   ],
   "source": [
    "def letter_grade(score):\n",
    "    \"\"\"Returns the letter grade for `score`.\"\"\"\n",
    "    if score >= 90: return 'A'\n",
    "    elif score >= 80: return 'B'\n",
    "    elif score >= 70: return 'C'\n",
    "    elif score >= 60: return 'D'\n",
    "    else: return 'F'\n",
    "\n",
    "letter_grade(85)"
   ]
  },
  {
   "cell_type": "markdown",
   "metadata": {},
   "source": [
    "80) Write _another_ function that takes a list of numeric grades and returns their letter grades. Use the function written above in your answer.\n",
    "\n",
    "* _Example:_ `letter_grades([85, 62, 90]) == ['B', 'D', 'A']`"
   ]
  },
  {
   "cell_type": "code",
   "execution_count": 37,
   "metadata": {},
   "outputs": [
    {
     "data": {
      "text/plain": [
       "['B', 'D', 'A']"
      ]
     },
     "execution_count": 37,
     "metadata": {},
     "output_type": "execute_result"
    }
   ],
   "source": [
    "def letter_grades(scores):\n",
    "    \"\"\"Returns a list of letter grades for each respective score in `scores`.\"\"\"\n",
    "    return [letter_grade(score) for score in scores]\n",
    "\n",
    "letter_grades([85, 62, 90])"
   ]
  },
  {
   "cell_type": "markdown",
   "metadata": {},
   "source": [
    "## Part VII: Optional Challenge"
   ]
  },
  {
   "cell_type": "markdown",
   "metadata": {},
   "source": [
    "81) Write a function that takes in a string and returns the number of vowels in that string. (No, y is not a vowel).\n",
    "* _Example:_ `vowel_count('General Assembly') == 5`"
   ]
  },
  {
   "cell_type": "code",
   "execution_count": 38,
   "metadata": {},
   "outputs": [
    {
     "data": {
      "text/plain": [
       "5"
      ]
     },
     "execution_count": 38,
     "metadata": {},
     "output_type": "execute_result"
    }
   ],
   "source": [
    "def vowel_count(s):\n",
    "    \"\"\"Returns the number of vowels in the string `s`.\"\"\"\n",
    "    return sum(c in 'aeiou' for c in s.lower())\n",
    "\n",
    "vowel_count('General Assembly')"
   ]
  },
  {
   "cell_type": "markdown",
   "metadata": {},
   "source": [
    "82) Write a function that takes in a string and returns that string with its consonants capitalized and vowels lowercased.\n",
    "\n",
    "* _Example:_ `toggle_case('General Assembly') == 'GeNeRaL aSSeMBLY'`"
   ]
  },
  {
   "cell_type": "code",
   "execution_count": 39,
   "metadata": {},
   "outputs": [
    {
     "data": {
      "text/plain": [
       "'GeNeRaL aSSeMBLY'"
      ]
     },
     "execution_count": 39,
     "metadata": {},
     "output_type": "execute_result"
    }
   ],
   "source": [
    "def toggle_case(s):\n",
    "    \"\"\"Returns a string with uppercase consonants and lowercase vowels in the string `s`.\"\"\"\n",
    "    return ''.join(c.lower() if c in 'aeiou' else c.upper() for c in s.lower())\n",
    "\n",
    "toggle_case('General Assembly')"
   ]
  },
  {
   "cell_type": "markdown",
   "metadata": {},
   "source": [
    "83) Write a function that takes in a string and returns that string with its vowels removed.\n",
    "* _Example:_ `disemvowel('Python is my favorite language') == 'Pythn s my fvrt lngg'`"
   ]
  },
  {
   "cell_type": "code",
   "execution_count": 2,
   "metadata": {},
   "outputs": [
    {
     "data": {
      "text/plain": [
       "'Pythn s my fvrt lngg'"
      ]
     },
     "execution_count": 2,
     "metadata": {},
     "output_type": "execute_result"
    }
   ],
   "source": [
    "def disemvowel(s):\n",
    "    \"\"\"Removes the vowels from the string `s`.\"\"\"\n",
    "    return ''.join(c for c in s if c not in 'aeiou')\n",
    "\n",
    "disemvowel('Python is my favorite language')"
   ]
  },
  {
   "cell_type": "markdown",
   "metadata": {},
   "source": [
    "84) Write a function that takes in a string and returns that string with its vowels removed for each word _except for one-letter words_, in which case leave the vowel intact. You should use your answer in the previous problem to answer this.\n",
    "* _Example:_ `smart_disemvowel('I love Python programming') == 'I lv Pythn prgrmmng'`"
   ]
  },
  {
   "cell_type": "code",
   "execution_count": 4,
   "metadata": {},
   "outputs": [
    {
     "name": "stdout",
     "output_type": "stream",
     "text": [
      "I lv Pythn prgrmmng\n"
     ]
    },
    {
     "data": {
      "text/plain": [
       "'a'"
      ]
     },
     "execution_count": 4,
     "metadata": {},
     "output_type": "execute_result"
    }
   ],
   "source": [
    "def smart_disemvowel(s):\n",
    "    \"\"\"Removes the vowels from the string `s`, unless `s` is a single character.\"\"\"\n",
    "    words = []\n",
    "    for word in s.split():\n",
    "        words.append(word if len(word) == 1 else disemvowel(word))\n",
    "    \n",
    "    return ' '.join(words)\n",
    "\n",
    "print(smart_disemvowel('I love Python programming'))\n",
    "smart_disemvowel('a')"
   ]
  },
  {
   "cell_type": "markdown",
   "metadata": {},
   "source": [
    "85) Write a function that takes in a string (likely multiple words long) and returns that string with the order of the words reversed.\n",
    "* _Example:_ `word_reverser('Data science is cool') == 'cool is science Data'`"
   ]
  },
  {
   "cell_type": "code",
   "execution_count": 42,
   "metadata": {},
   "outputs": [
    {
     "data": {
      "text/plain": [
       "'cool is science Data'"
      ]
     },
     "execution_count": 42,
     "metadata": {},
     "output_type": "execute_result"
    }
   ],
   "source": [
    "def word_reverser(s):\n",
    "    \"\"\"Reverses the order of words in the string `s`.\"\"\"\n",
    "    return ' '.join(reversed(s.split(' ')))\n",
    "\n",
    "word_reverser('Data science is cool')"
   ]
  },
  {
   "cell_type": "markdown",
   "metadata": {},
   "source": [
    "86) Write a function that takes in a string (likely multiple words long) and returns that string with each word reversed, but with the words in the same order.\n",
    "* _Example:_ `letter_reverser('Data science is cool') == 'ataD ecneics si looc'`"
   ]
  },
  {
   "cell_type": "code",
   "execution_count": 43,
   "metadata": {},
   "outputs": [
    {
     "data": {
      "text/plain": [
       "'ataD ecneics si looc'"
      ]
     },
     "execution_count": 43,
     "metadata": {},
     "output_type": "execute_result"
    }
   ],
   "source": [
    "# Could also use w[::-1]\n",
    "\n",
    "def letter_reverser(s):\n",
    "    \"\"\"Reverses the letters in the string `s`.\"\"\"\n",
    "    return ' '.join(''.join(reversed(w)) for w in s.split(' '))\n",
    "\n",
    "letter_reverser(\"Data science is cool\")"
   ]
  },
  {
   "cell_type": "markdown",
   "metadata": {},
   "source": [
    "87) Write a function that converts a string to \"leet speak\". Leet speak is a made-up internet language which you replace characters with symbols that look like those characters. For example:\n",
    "\n",
    "* _Example:_ `to_leet_speak('i am elite') == '! @M 31!73'`\n",
    "* _Hint:_ Recall what `.get()` does when called on a dictionary? Will this help you with spaces or other non-letter characters?\n",
    "\n",
    "_Note:_ This problem is borrowed from [this](https://www.codewars.com/kata/toleetspeak) wonderful Codewars challenge!\n",
    "\n",
    "Below is the English-to-leet dictionary:"
   ]
  },
  {
   "cell_type": "code",
   "execution_count": 44,
   "metadata": {},
   "outputs": [],
   "source": [
    "LEET_DICT = {'A' : '@', 'B' : '8', 'C' : '(', 'D' : 'D', 'E' : '3',\n",
    "             'F' : 'F', 'G' : '6', 'H' : '#', 'I' : '!', 'J' : 'J',\n",
    "             'K' : 'K', 'L' : '1', 'M' : 'M', 'N' : 'N', 'O' : '0',\n",
    "             'P' : 'P', 'Q' : 'Q', 'R' : 'R', 'S' : '$', 'T' : '7',\n",
    "             'U' : 'U', 'V' : 'V', 'W' : 'W', 'X' : 'X', 'Y' : 'Y',\n",
    "             'Z' : '2'}"
   ]
  },
  {
   "cell_type": "code",
   "execution_count": 45,
   "metadata": {},
   "outputs": [
    {
     "data": {
      "text/plain": [
       "'! @M 31!73'"
      ]
     },
     "execution_count": 45,
     "metadata": {},
     "output_type": "execute_result"
    }
   ],
   "source": [
    "def to_leet_speak(s):\n",
    "    \"\"\"Converts `s` to leet speak.\"\"\"\n",
    "    return ''.join(LEET_DICT.get(c, c) for c in s.upper())   # If `c` does not exist in LEET_DICT, just append `c` to the string.\n",
    "\n",
    "to_leet_speak(\"i am elite\")"
   ]
  },
  {
   "cell_type": "markdown",
   "metadata": {},
   "source": [
    "87) Write an `is_prime` function that takes in a number and returns a boolean of whether or not that number was prime. (_Hint:_ You already did this in a previous section.)\n",
    "\n",
    "* _Example:_ `is_prime(5) == True`\n",
    "* _Example:_ `is_prime(6) == False`"
   ]
  },
  {
   "cell_type": "code",
   "execution_count": 46,
   "metadata": {},
   "outputs": [],
   "source": [
    "def is_prime(num):\n",
    "    if num < 2: return False      # Numbers < 2 are not prime\n",
    "    \n",
    "    # A number is prime if it is divisible only by 1 and itself.\n",
    "    # - So, if any other number inbetween is a divisor, then the number is not prime\n",
    "    for test_num in range(2, num):\n",
    "        if num % test_num == 0:      # `test_num` divides evenly into `num`\n",
    "            return False\n",
    "    \n",
    "    return True\n",
    "\n",
    "# == TESTS ==\n",
    "# Assert that 5 is prime and 6 is not prime.\n",
    "# - Nothing will be displayed if the assertions are true.\n",
    "# - So, the tests pass if nothing is displayed.\n",
    "assert(is_prime(5) == True)\n",
    "assert(is_prime(6) == False)"
   ]
  },
  {
   "cell_type": "markdown",
   "metadata": {},
   "source": [
    "88) Write a function that takes in a number and returns the sum of all primes less than or equal to that number. You'll need your answer to the previous problem to answer this.\n",
    "* _Example:_ `sum_primes(11) == 2 + 3 + 5 + 7 + 11 == 28`\n",
    "* _Bonus:_ Can you do this in one line with a listcomp?"
   ]
  },
  {
   "cell_type": "code",
   "execution_count": 47,
   "metadata": {},
   "outputs": [
    {
     "data": {
      "text/plain": [
       "28"
      ]
     },
     "execution_count": 47,
     "metadata": {},
     "output_type": "execute_result"
    }
   ],
   "source": [
    "def sum_primes(max_n):\n",
    "    return sum(n for n in range(2, max_n+1) if is_prime(n))\n",
    "\n",
    "sum_primes(11)"
   ]
  },
  {
   "cell_type": "markdown",
   "metadata": {},
   "source": [
    "# OPTIONAL: Part VIII: What's next?"
   ]
  },
  {
   "cell_type": "markdown",
   "metadata": {},
   "source": [
    "## Part VIIIa: Virtual Practice\n",
    "\n",
    "Now that we've got a handle on the basics (and a few problems much more difficult than \"basic\"), what do we do next? If you'd like some more difficult challenges, sign up for [Codewars](https://www.codewars.com)! Codewars is a website in which you are repeatedly given coding challenges that get progressively more difficult. You earn XP and level up, giving you harder and harder problems. Below is an ever-updating list of coding challenges that we recommend. Some of them are Codewars challenges, some from other resources:"
   ]
  },
  {
   "cell_type": "markdown",
   "metadata": {},
   "source": [
    "* [Run-length Encoding](https://www.codewars.com/kata/run-length-encoding-1) (Codewars)\n",
    "* [Permutations](https://leetcode.com/problems/permutations/) (Leetcode)\n",
    "* [\"1-Dimensional Candy Crush\"](https://leetcode.com/discuss/interview-question/380650/bloomberg-phone-screen-candy-crush-1d) (Leetcode)"
   ]
  },
  {
   "cell_type": "markdown",
   "metadata": {},
   "source": [
    "## Part VIIIb: Real Interview Challenges\n",
    "Below are interesting challenges stolen directly from real interviews! These challenges have been reported from both GA students and GA instructors. If you find a good one in your future interviews, please come back and tell us! This section of the ladder is ever-updating."
   ]
  },
  {
   "cell_type": "markdown",
   "metadata": {},
   "source": [
    "### File Permissions\n",
    "In UNIX-like systems (eg, Mac and Linux), the permissions on certain files are given by short 9-character codes. These characters represent the read (**r**), write (**w**), and execute (**x**) permissions of the owner, assigned group, and all users, respectively. For example, the code\n",
    "\n",
    "`rwx------`\n",
    "\n",
    "means the file owner has all 3 kinds of permissions, but no one else can do anything. Another common code is \n",
    "\n",
    "`rwxr-xr-x`\n",
    "\n",
    "which means that everyone can read and execute the file, but only the owner has permission to write to it (that is, to change it). You can see these permissions yourself by typing `ls -l` from your command line!\n",
    "\n",
    "In order to further save space, these codes are often saved as a 3-digit number, where each digit corresponds to the sum of the values of `r`, `w`, and `x`. `r` is worth 4, `w` is worth 2, `x` is worth 1, and `-` is worth 0. For example, `rwx------` is shortened to the code `700`, and `rwxr-xr-x` is `755`.\n",
    "\n",
    "Your challenge is to write a function that shortens the \"permission string\" to its corresponding \"permission code\" (properly known as its \"octal notation\"). Please note that the output of your function should be an integer, not a string! You can assume the \"permission string\" is always valid.\n",
    "\n",
    "* _Example:_ `permissions_to_octa(\"rwxr-xr-x\") = 755`"
   ]
  },
  {
   "cell_type": "code",
   "execution_count": 48,
   "metadata": {},
   "outputs": [
    {
     "name": "stdout",
     "output_type": "stream",
     "text": [
      "755\n",
      "600\n"
     ]
    }
   ],
   "source": [
    "# METHOD ONE\n",
    "def permissions_to_octal(permissions):\n",
    "    permission_dict = {'r': 4, 'w': 2, 'x': 1, '-': 0}\n",
    "    \n",
    "    p_owner = sum([permission_dict[char] for char in permissions[:3]])\n",
    "    p_group = sum([permission_dict[char] for char in permissions[3:6]])\n",
    "    p_users = sum([permission_dict[char] for char in permissions[-3:]])\n",
    "    \n",
    "    return int(f\"{p_owner}{p_group}{p_users}\")\n",
    "\n",
    "# TEST\n",
    "print(permissions_to_octal('rwxr-xr-x'))   # 755\n",
    "print(permissions_to_octal('rw-------'))   # 600"
   ]
  },
  {
   "cell_type": "code",
   "execution_count": 49,
   "metadata": {},
   "outputs": [
    {
     "name": "stdout",
     "output_type": "stream",
     "text": [
      "755\n",
      "600\n"
     ]
    }
   ],
   "source": [
    "# METHOD TWO\n",
    "# A good strategy is to break down the problem into two simpler parts:\n",
    "#   1. First, compute the octal digit for a 3-char string, e.g. \"rwx\" is 7.     <-- Below, this is the function 'octal'\n",
    "#   2. Then, split the string into 3-char chunks and combine the resulting octal codes.\n",
    "\n",
    "def permissions_to_octal(p):\n",
    "    \"\"\"Returns the 3-digit octal code given permissions string `p`, e.g. 'rwxr-xr-x' is 755.\"\"\"\n",
    "    \n",
    "    def octal(p3):\n",
    "        \"\"\"Returns the octal digit for a 3-char permission string `p3`, e.g. 'rwx' is 7.\"\"\"\n",
    "        return 4*(p3[0]=='r') + 2*(p3[1]=='w') + 1*(p3[2]=='x')\n",
    "    \n",
    "    # Break the permissions into three 3-char strings. Multiply each score by its base-10 position.\n",
    "    return 100*octal(p[:3]) + 10*octal(p[3:6]) + 1*octal(p[6:])\n",
    "\n",
    "\n",
    "# TEST\n",
    "print(permissions_to_octal('rwxr-xr-x'))   # 755\n",
    "print(permissions_to_octal('rw-------'))   # 600"
   ]
  },
  {
   "cell_type": "code",
   "execution_count": null,
   "metadata": {},
   "outputs": [],
   "source": []
  },
  {
   "cell_type": "code",
   "execution_count": 50,
   "metadata": {},
   "outputs": [],
   "source": [
    "# A few notes:\n",
    "# 1. Having trouble approaching the problem? Start by solving examples by hand on paper.\n",
    "#    - If you can't solve some examples yourself, then you have a low chance of writing correct Python code!\n",
    "#    - Once you do this, it will become easier seeing the need for these two steps, since it is what you do naturally by hand.\n",
    "\n",
    "# 2. Note our function does not detect invalid strings -- if this was an interview, make sure you \"raise\" this with the interviewer!\n",
    "\n",
    "# 3. One exception to the \"spaces before and after each operator\" rule is if the operator is not outermost.\n",
    "#    Examples:\n",
    "#       - In `1 + 2*3 + 4*5*6 + 7`, there is no need for spaces around `*`, since `+` is outermost.\n",
    "#       - (See the function above for more examples, where `+` is again outermost and `*` and `==` are not.)\n",
    "#       - This is to enhance readability.\n",
    "\n",
    "# 4. Above, we define an \"inner function.\" Do not be scared by this! \n",
    "#    - We are just declaring a new local variable `octal` that only exists inside the function `permissions_to_octal`.\n",
    "#    - We do this because `octal` is ONLY used inside `permissions_to_octal`, \n",
    "#         so it doesn't make sense to declare it elsewhere. (This is a programming principle called \"encapsulation.\")\n",
    "\n",
    "# 5. Writing 1* above is unnecessary but written for clarity, to show how it is similar to the other multiples."
   ]
  },
  {
   "cell_type": "markdown",
   "metadata": {},
   "source": [
    "### Grocery Bags\n",
    "A large grocery bag can hold 5 items, while a small grocery bag can hold only 1. The numbers of each size bag available may be limited. All items must be placed in a bag and each bag must be filled completely. For example, if we have 16 items, 2 large bags, and 10 small bags, 8 total bags are needed. 2 large bags + 6 small bags = 16 items in 8 bags.\n",
    "\n",
    "Write a function to calculate the **minimum** number of bags needed. If it's not possible to meet these conditions, return `-1`.\n",
    "\n",
    "* `min_bags(16, 2, 10) = 8`\n",
    "* `min_bags(20, 2, 2) = -1`"
   ]
  },
  {
   "cell_type": "code",
   "execution_count": 51,
   "metadata": {},
   "outputs": [],
   "source": [
    "# Start by trying some by hand using pencil and paper.\n",
    "# - You will realize that we must first exhaust the 5-item bags,\n",
    "#      then put everything else into 1-item bags.\n",
    "def min_bags(num_items, avail_large, avail_small):\n",
    "    \"\"\"\n",
    "    Return the least number of bags needed to hold `items` items, \n",
    "        given there are only `avail_large` 5-item bags and `avail_small` 1-item bags.\n",
    "    \"\"\"\n",
    "    num_large = min(num_items // 5, avail_large)   # We need `num_large` 5-item bags (at MOST `avail_large`)\n",
    "    num_small = num_items - 5*num_large            # We need `num_small` 1-item bags for everything else\n",
    "    \n",
    "    # If we need more 1-item bags than are available, return -1\n",
    "    return -1 if avail_small < num_small else num_large + num_small\n",
    "\n",
    "\n",
    "# TESTS\n",
    "assert(min_bags(16, 2, 10) == 8)\n",
    "assert(min_bags(20, 2, 2) == -1)"
   ]
  },
  {
   "cell_type": "code",
   "execution_count": 52,
   "metadata": {},
   "outputs": [],
   "source": [
    "# Let's break this logic down more if it is still confusing:\n",
    "#   We will fill the large bags first, then put what's left into small bags.\n",
    "\n",
    "# == LARGE BAGS ==\n",
    "# How many large bags do we need?\n",
    "# - `num_items // 5` is a normal division where the decimal part is truncated. (It is the \"quotient.\")\n",
    "# - Let's say we have 21 items, 3 large bags, and 3 small bags. How many large bags will we use?\n",
    "#     - At most, we could fill `num_items // 5 == 4` large bags.\n",
    "#     - However, we only have 3 large bags.\n",
    "#     - So, we will use `min(num_items // 5, 3) == 3` large bags.\n",
    "\n",
    "# == SMALL BAGS ==\n",
    "# Now that we've filled our large bags, how many small bags do we need?\n",
    "# - Again, let's say we have 21 items, 3 large bags, and 3 small bags.\n",
    "#     - If we fill our 3 large bags, we are left with: 21 - 3 * 5 = 6 items.\n",
    "#     - Since we only have 3 small bags, we'll return -1. \n",
    "#     - If instead we had >= 6 small bags, we would have returned 3 large + 6 small = 9 bags."
   ]
  },
  {
   "cell_type": "code",
   "execution_count": 53,
   "metadata": {},
   "outputs": [],
   "source": [
    "# Note we did not replace the constant 5 within the code, as we've recommended earlier.\n",
    "#   - The best practice for adding a constant within a function is to add it as\n",
    "#        an optional named parameter. This allows the end-user to change the constant!\n",
    "#   - Also note that our solution code only holds when the small bags hold 1 item!\n",
    "#        So, we will not allow modification of the small-bag size.\n",
    "\n",
    "# Here is an example of moving the constant `5` into a default-value function parameter.\n",
    "# This would be the preferred solution.\n",
    "def min_bags(num_items, avail_large, avail_small, ITEMS_PER_LARGE=5):\n",
    "    \"\"\"\n",
    "    Return the least number of bags needed to hold `items` items, given there are only:\n",
    "        + `avail_large` ITEMS_PER_LARGE-item bags and \n",
    "        + `avail_small` 1-item bags.\n",
    "    \"\"\"\n",
    "    num_large = min(num_items // ITEMS_PER_LARGE, avail_large)  # The code is easier to understand, since\n",
    "    num_small = num_items - ITEMS_PER_LARGE*num_large           #   the '5' constant now has a readable name!\n",
    "    \n",
    "    # If we need more 1-item bags than are available, return -1\n",
    "    return -1 if avail_small < num_small else num_large + num_small\n",
    "\n",
    "\n",
    "# TESTS\n",
    "assert(min_bags(16, 2, 10) == 8)\n",
    "assert(min_bags(20, 2, 2) == -1)"
   ]
  },
  {
   "cell_type": "code",
   "execution_count": null,
   "metadata": {},
   "outputs": [],
   "source": []
  }
 ],
 "metadata": {
  "kernelspec": {
   "display_name": "Python 3",
   "language": "python",
   "name": "python3"
  },
  "language_info": {
   "codemirror_mode": {
    "name": "ipython",
    "version": 3
   },
   "file_extension": ".py",
   "mimetype": "text/x-python",
   "name": "python",
   "nbconvert_exporter": "python",
   "pygments_lexer": "ipython3",
   "version": "3.8.5"
  }
 },
 "nbformat": 4,
 "nbformat_minor": 4
}
